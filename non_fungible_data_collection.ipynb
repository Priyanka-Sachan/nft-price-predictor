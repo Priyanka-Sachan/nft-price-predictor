{
  "cells": [
    {
      "cell_type": "code",
      "execution_count": null,
      "metadata": {
        "id": "E3avosnGzHcE"
      },
      "outputs": [],
      "source": [
        "!pip install requests"
      ]
    },
    {
      "cell_type": "code",
      "execution_count": null,
      "metadata": {
        "id": "fZnxmzLbzYdI"
      },
      "outputs": [],
      "source": [
        "import requests\n",
        "import json\n",
        "import time\n",
        "import math\n",
        "\n",
        "import numpy as np\n",
        "import pandas as pd\n",
        "# Make NumPy printouts easier to read.\n",
        "np.set_printoptions(precision=3, suppress=True)\n",
        "\n",
        "from google.colab import files\n",
        "from datetime import date, datetime"
      ]
    },
    {
      "cell_type": "code",
      "execution_count": null,
      "metadata": {
        "id": "gKx3H0iUMVtb"
      },
      "outputs": [],
      "source": [
        "def addColumnPrefix(cols, prefix):\n",
        "  columns_rename_dict={}\n",
        "  for col in cols:\n",
        "    columns_rename_dict[col]=prefix+'-'+col\n",
        "  return columns_rename_dict"
      ]
    },
    {
      "cell_type": "markdown",
      "metadata": {
        "id": "N8VJ5HZehFEQ"
      },
      "source": [
        "## Data Collection"
      ]
    },
    {
      "cell_type": "code",
      "execution_count": null,
      "metadata": {
        "id": "PiejSPlj635A"
      },
      "outputs": [],
      "source": [
        "start_date=\"2022-09-01\"\n",
        "# start_date=\"2023-01-01\"\n",
        "end_date=\"2023-03-01\""
      ]
    },
    {
      "cell_type": "code",
      "execution_count": null,
      "metadata": {
        "id": "CopixbDb-yjH"
      },
      "outputs": [],
      "source": [
        "# Uses limit = current_date - start_date + 1\n",
        "current_date_obj=date.today()\n",
        "start_date_obj = datetime.strptime(start_date, '%Y-%m-%d').date()\n",
        "limit=(current_date_obj-start_date_obj).days + 2"
      ]
    },
    {
      "cell_type": "markdown",
      "metadata": {
        "id": "3sjbyEMSiAjh"
      },
      "source": [
        "### NFT Market Sales Statistics"
      ]
    },
    {
      "cell_type": "code",
      "execution_count": null,
      "metadata": {
        "id": "ZqYULa_AiDLt"
      },
      "outputs": [],
      "source": [
        "stats={}\n",
        "url=\"https://nonfungible.com/api/statistics?metrics[]=count-sale&metrics[]=sum-usd&metrics[]=avg-usd&metrics[]=count-salesprimary&metrics[]=sum-usdprimary&metrics[]=count-salessecondary&metrics[]=sum-usdsecondary&metrics[]=unique-wallets&metrics[]=unique-buyer&metrics[]=unique-seller&avg=1&limit=\"+str(limit)+\"&comparison=false&includeLatest=true&useCache=false\"\n",
        "response = requests.get(url)\n",
        "print(url)\n",
        "data=json.loads(response.text)['data']\n",
        "parameters=['count-sale','sum-usd','avg-usd','count-salesprimary','sum-usdprimary','count-salessecondary','sum-usdsecondary','unique-wallets','unique-buyer','unique-seller']\n",
        "for parameter in parameters:\n",
        "  results=data[parameter]\n",
        "  for result in results:\n",
        "    if result[0] not in stats.keys():\n",
        "      stats[result[0]]={}\n",
        "    stats[result[0]][parameter]=result[1]"
      ]
    },
    {
      "cell_type": "code",
      "execution_count": null,
      "metadata": {
        "id": "xkQbrKioMvke"
      },
      "outputs": [],
      "source": [
        "market_sales_stats = pd.DataFrame.from_dict(stats,orient='index').reset_index()"
      ]
    },
    {
      "cell_type": "code",
      "execution_count": null,
      "metadata": {
        "id": "oMwWSipjMxNX"
      },
      "outputs": [],
      "source": [
        "market_sales_stats['index']=market_sales_stats['index']+86400000"
      ]
    },
    {
      "cell_type": "code",
      "execution_count": null,
      "metadata": {
        "id": "ibZUhQPeyx4s"
      },
      "outputs": [],
      "source": [
        "market_sales_stats.rename(columns = {'index':'timestamp'}, inplace = True)\n",
        "renamed_columns=addColumnPrefix(['count-sale', 'sum-usd', 'avg-usd', 'count-salesprimary',\n",
        "       'sum-usdprimary', 'count-salessecondary', 'sum-usdsecondary',\n",
        "       'unique-wallets', 'unique-buyer', 'unique-seller'],'market')\n",
        "market_sales_stats.rename(columns = renamed_columns, inplace = True)"
      ]
    },
    {
      "cell_type": "code",
      "execution_count": null,
      "metadata": {
        "id": "H5Jm3SnmQhTy"
      },
      "outputs": [],
      "source": [
        "market_sales_stats.isnull().sum()"
      ]
    },
    {
      "cell_type": "code",
      "execution_count": null,
      "metadata": {
        "id": "ETqAOG5iQjRW"
      },
      "outputs": [],
      "source": [
        "market_sales_stats=market_sales_stats.dropna()"
      ]
    },
    {
      "cell_type": "code",
      "execution_count": null,
      "metadata": {
        "id": "e_OFIA45QsiI"
      },
      "outputs": [],
      "source": [
        "market_sales_stats=market_sales_stats[market_sales_stats['market-count-sale']!=0]\n",
        "market_sales_stats=market_sales_stats[market_sales_stats['market-sum-usd']!=0]"
      ]
    },
    {
      "cell_type": "code",
      "execution_count": null,
      "metadata": {
        "id": "aEBdzfreUNdZ"
      },
      "outputs": [],
      "source": [
        "market_sales_stats"
      ]
    },
    {
      "cell_type": "code",
      "execution_count": null,
      "metadata": {
        "id": "VtTG9F1Fy9YQ"
      },
      "outputs": [],
      "source": [
        "market_sales_stats.to_csv('market_sales_stats.csv',index=False)"
      ]
    },
    {
      "cell_type": "markdown",
      "metadata": {
        "id": "dQ0KZ3I6lUT-"
      },
      "source": [
        "### Collection Categories Sales Statistics "
      ]
    },
    {
      "cell_type": "code",
      "execution_count": null,
      "metadata": {
        "id": "UMxfICUelZo2"
      },
      "outputs": [],
      "source": [
        "categories=['collectible','art','metaverse','game']"
      ]
    },
    {
      "cell_type": "code",
      "execution_count": null,
      "metadata": {
        "id": "K3IfqnS_moae"
      },
      "outputs": [],
      "source": [
        "category_sales_stats={}\n",
        "for category in categories:\n",
        "  stats={}\n",
        "  url=\"https://nonfungible.com/api/statistics?metrics[]=count-sale&metrics[]=sum-usd&metrics[]=avg-usd&metrics[]=count-salesprimary&metrics[]=sum-usdprimary&metrics[]=count-salessecondary&metrics[]=sum-usdsecondary&metrics[]=unique-wallets&metrics[]=unique-buyer&metrics[]=unique-seller&avg=1&limit=\"+str(limit)+\"&comparison=false&category=\"+category+\"&includeLatest=true&useCache=false\"\n",
        "  response = requests.get(url)\n",
        "  data=json.loads(response.text)['data']\n",
        "  parameters=['count-sale','sum-usd','avg-usd','count-salesprimary','sum-usdprimary','count-salessecondary','sum-usdsecondary','unique-wallets','unique-buyer','unique-seller']\n",
        "  for parameter in parameters:\n",
        "    results=data[parameter]\n",
        "    for result in results:\n",
        "      # print(result)\n",
        "      if result[0] not in stats.keys():\n",
        "        stats[result[0]]={}\n",
        "      stats[result[0]][parameter]=result[1]\n",
        "      \n",
        "  category_sales_stats[category] = pd.DataFrame.from_dict(stats,orient='index').reset_index()\n",
        "  category_sales_stats[category]['index']=category_sales_stats[category]['index']+86400000\n",
        "  category_sales_stats[category].rename(columns = {'index':'timestamp'}, inplace = True)\n",
        "  renamed_columns=addColumnPrefix(['count-sale', 'sum-usd', 'avg-usd', 'count-salesprimary','sum-usdprimary', 'count-salessecondary', 'sum-usdsecondary','unique-wallets', 'unique-buyer', 'unique-seller'],category)\n",
        "  category_sales_stats[category].rename(columns = renamed_columns , inplace = True)\n",
        "  print('Category:',category)\n",
        "  print(category_sales_stats[category])\n",
        "  category_sales_stats[category].to_csv(category+'_sales_stats.csv',index=False)"
      ]
    },
    {
      "cell_type": "markdown",
      "metadata": {
        "id": "Rwb57UVPh7uM"
      },
      "source": [
        "### NFT Collections Metadata"
      ]
    },
    {
      "cell_type": "code",
      "execution_count": null,
      "metadata": {
        "id": "iuoq1YN0v8aQ"
      },
      "outputs": [],
      "source": [
        "# # If I extract all collections of a project\n",
        "# collections={}\n",
        "\n",
        "# url='https://nonfungible.com/api/topProjects?limit=1000&orderBy=SUMUSD7D&order=DESC'\n",
        "# response = requests.get(url)\n",
        "# projects=json.loads(response.text)['projects']\n",
        "# for project in projects:\n",
        "#   collection={\n",
        "\n",
        "#       'project':project['title'] if 'title' in project.keys() else None,\n",
        "\n",
        "#       'projectSlug':project['slug'] if 'slug' in project.keys() else None,\n",
        "      \n",
        "#       'date':project['date'] if 'date' in project.keys() else None,\n",
        "\n",
        "#       'description':project['custom_fields_project']['description'] \n",
        "#       if 'custom_fields_project' in project.keys() and project['custom_fields_project']!=None\n",
        "#       and 'description' in project['custom_fields_project'].keys() \n",
        "#       else None,\n",
        "\n",
        "#       'discord':project['custom_fields_project']['socialMedia']['discord'] \n",
        "#       if 'custom_fields_project' in project.keys() and project['custom_fields_project']!=None\n",
        "#       and 'socialMedia' in project['custom_fields_project'].keys() and project['custom_fields_project']['socialMedia']!=None\n",
        "#       and 'discord' in project['custom_fields_project']['socialMedia'].keys() \n",
        "#       else None,\n",
        "\n",
        "#       'twitter':project['custom_fields_project']['socialMedia']['twitter'] \n",
        "#       if 'custom_fields_project' in project.keys() and project['custom_fields_project']!=None\n",
        "#       and 'socialMedia' in project['custom_fields_project'].keys() and project['custom_fields_project']['socialMedia']!=None\n",
        "#       and 'twitter' in project['custom_fields_project']['socialMedia'].keys() \n",
        "#       else None\n",
        "#   }\n",
        "#   if 'custom_fields_project' in project.keys() and project['custom_fields_project']!=None and 'smartContracts' in project['custom_fields_project'].keys() and project['custom_fields_project']['smartContracts']!=None:\n",
        "#     for i in range(len(project['custom_fields_project']['smartContracts'])):\n",
        "#         collection['title']=project['custom_fields_project']['smartContracts'][i]['label'] if 'label' in project['custom_fields_project']['smartContracts'][i].keys() else project['title'] if 'title' in project.keys() else None\n",
        "#         collection['category']=project['custom_fields_project']['smartContracts'][i]['category'] if 'category' in project['custom_fields_project']['smartContracts'][i].keys() else None\n",
        "#         collection['address']=project['custom_fields_project']['smartContracts'][i]['address'] if 'address' in project['custom_fields_project']['smartContracts'][i].keys() else None\n",
        "#         collection['token']=project['custom_fields_project']['smartContracts'][i]['tokenTickerSymbol'] if 'tokenTickerSymbol' in project['custom_fields_project']['smartContracts'][i].keys() else None\n",
        "#         collection['type']=project['custom_fields_project']['smartContracts'][i]['type'][0] if 'type' in project['custom_fields_project']['smartContracts'][i].keys() else None\n",
        "#         collection['slug']=collection['title'].replace(\" \", \"\").lower()\n",
        "#         print(collection)\n",
        "#         # if collection['address']==None:\n",
        "#             # continue\n",
        "#         collections[collection['slug']]=collection.copy()\n"
      ]
    },
    {
      "cell_type": "code",
      "execution_count": null,
      "metadata": {
        "id": "krrRPFl_R0QO"
      },
      "outputs": [],
      "source": [
        "collections={}\n",
        "\n",
        "url='https://nonfungible.com/api/topProjects?limit=1000&orderBy=SUMUSD7D&order=DESC'\n",
        "response = requests.get(url)\n",
        "projects=json.loads(response.text)['projects']\n",
        "for project in projects:\n",
        "  collection={\n",
        "      'title':project['custom_fields_project']['smartContracts'][0]['label']  \n",
        "      if 'custom_fields_project' in project.keys() and project['custom_fields_project']!=None\n",
        "      and 'smartContracts' in project['custom_fields_project'].keys() and project['custom_fields_project']['smartContracts']!=None\n",
        "      and len(project['custom_fields_project']['smartContracts'])>0 \n",
        "      and 'label' in project['custom_fields_project']['smartContracts'][0].keys() \n",
        "      else project['title'] if 'title' in project.keys() else None,\n",
        "\n",
        "      'project':project['title'] if 'title' in project.keys() else None,\n",
        "\n",
        "      'projectSlug':project['slug'] if 'slug' in project.keys() else None,\n",
        "      \n",
        "      'date':project['date'] if 'date' in project.keys() else None,\n",
        "\n",
        "      'description':project['custom_fields_project']['description'] \n",
        "      if 'custom_fields_project' in project.keys() and project['custom_fields_project']!=None\n",
        "      and 'description' in project['custom_fields_project'].keys() \n",
        "      else None,\n",
        "\n",
        "      'address':project['custom_fields_project']['smartContracts'][0]['address']  \n",
        "      if 'custom_fields_project' in project.keys() and project['custom_fields_project']!=None\n",
        "      and 'smartContracts' in project['custom_fields_project'].keys() and project['custom_fields_project']['smartContracts']!=None\n",
        "      and len(project['custom_fields_project']['smartContracts'])>0 \n",
        "      and 'address' in project['custom_fields_project']['smartContracts'][0].keys() \n",
        "      else None,\n",
        "\n",
        "      # 'category':project['custom_fields_project']['smartContracts'][0]['category'] \n",
        "      # if 'custom_fields_project' in project.keys() and project['custom_fields_project']!=None\n",
        "      # and 'smartContracts' in project['custom_fields_project'].keys() and project['custom_fields_project']['smartContracts']!=None\n",
        "      # and len(project['custom_fields_project']['smartContracts'])>0 \n",
        "      # and 'category' in project['custom_fields_project']['smartContracts'][0].keys() \n",
        "      # else None,\n",
        "\n",
        "      'category': project['projectCategories'][0]['slug'] \n",
        "      if 'projectCategories' in project.keys() and project['projectCategories']!=None\n",
        "      and len(project['projectCategories'])>0 and 'slug' in project['projectCategories'][0].keys() \n",
        "      else None,\n",
        "\n",
        "      'token':project['custom_fields_project']['smartContracts'][0]['tokenTickerSymbol'] \n",
        "      if 'custom_fields_project' in project.keys() and project['custom_fields_project']!=None\n",
        "      and 'smartContracts' in project['custom_fields_project'].keys() and project['custom_fields_project']['smartContracts']!=None\n",
        "      and len(project['custom_fields_project']['smartContracts'])>0 \n",
        "      and 'tokenTickerSymbol' in project['custom_fields_project']['smartContracts'][0].keys() \n",
        "      else None,\n",
        "\n",
        "      'type':project['custom_fields_project']['smartContracts'][0]['type'][0] \n",
        "      if 'custom_fields_project' in project.keys() and project['custom_fields_project']!=None\n",
        "      and 'smartContracts' in project['custom_fields_project'].keys() and project['custom_fields_project']['smartContracts']!=None\n",
        "      and len(project['custom_fields_project']['smartContracts'])>0 \n",
        "      and 'type' in project['custom_fields_project']['smartContracts'][0].keys() \n",
        "      else None,\n",
        "\n",
        "      'discord':project['custom_fields_project']['socialMedia']['discord'] \n",
        "      if 'custom_fields_project' in project.keys() and project['custom_fields_project']!=None\n",
        "      and 'socialMedia' in project['custom_fields_project'].keys() and project['custom_fields_project']['socialMedia']!=None\n",
        "      and 'discord' in project['custom_fields_project']['socialMedia'].keys() \n",
        "      else None,\n",
        "\n",
        "      'twitter':project['custom_fields_project']['socialMedia']['twitter'] \n",
        "      if 'custom_fields_project' in project.keys() and project['custom_fields_project']!=None\n",
        "      and 'socialMedia' in project['custom_fields_project'].keys() and project['custom_fields_project']['socialMedia']!=None\n",
        "      and 'twitter' in project['custom_fields_project']['socialMedia'].keys() \n",
        "      else None\n",
        "  }\n",
        "  collection['slug']=collection['title'].replace(\" \", \"\").lower()\n",
        "  if collection['address']==None:\n",
        "    continue\n",
        "  collections[collection['slug']]=collection\n"
      ]
    },
    {
      "cell_type": "code",
      "execution_count": null,
      "metadata": {
        "id": "kjYsuhV5tQoC"
      },
      "outputs": [],
      "source": [
        "collections"
      ]
    },
    {
      "cell_type": "code",
      "execution_count": null,
      "metadata": {
        "id": "Up_Aij4acb1P",
        "colab": {
          "base_uri": "https://localhost:8080/"
        },
        "outputId": "dcefe3e2-8af9-4940-c96d-1c7222c969c0"
      },
      "outputs": [
        {
          "output_type": "stream",
          "name": "stdout",
          "text": [
            "Number of collections:  1100\n"
          ]
        }
      ],
      "source": [
        "print('Number of collections: ',len(collections.keys()))"
      ]
    },
    {
      "cell_type": "code",
      "execution_count": null,
      "metadata": {
        "id": "-VQaOdzbzh17"
      },
      "outputs": [],
      "source": [
        "for collectionSlug in collections.keys():\n",
        "  url = \"https://eth-mainnet.g.alchemy.com/nft/v2/p4bGU_z8jpNfDOf-kMNuQg5nCzkYQw4u/getContractMetadata?contractAddress=\"+collections[collectionSlug]['address']\n",
        "  response = requests.get(url)\n",
        "  if response.status_code == 200:\n",
        "    result=response.json()\n",
        "    collections[collectionSlug]['token']=result['contractMetadata']['symbol'] if collections[collectionSlug]['token']== None and 'symbol' in result['contractMetadata'].keys() else collections[collectionSlug]['token']\n",
        "    # collections[collectionSlug]['totalSupply']=int(result['contractMetadata']['totalSupply']) if 'totalSupply' in result['contractMetadata'].keys() else None\n",
        "    collections[collectionSlug]['description']=result['contractMetadata']['openSea']['description'] if collections[collectionSlug]['description']== None and 'openSea' in result['contractMetadata'].keys() and 'description' in result['contractMetadata']['openSea'].keys() else collections[collectionSlug]['description']\n",
        "    collections[collectionSlug]['twitter']=result['contractMetadata']['openSea']['twitterUsername'] if collections[collectionSlug]['twitter']== None and 'openSea' in result['contractMetadata'].keys() and 'twitterUsername' in result['contractMetadata']['openSea'].keys() else collections[collectionSlug]['twitter']\n",
        "    collections[collectionSlug]['discord']=result['contractMetadata']['openSea']['discordUrl'] if collections[collectionSlug]['discord']== None and 'openSea' in result['contractMetadata'].keys() and 'discordUrl' in result['contractMetadata']['openSea'].keys() else collections[collectionSlug]['discord']\n",
        "  # else:\n",
        "    # collections[collectionSlug]['totalSupply']=None\n",
        "    \n",
        "  # For adding traits summary as part of collection data\n",
        "  # traits_url = \"https://eth-mainnet.g.alchemy.com/nft/v2/p4bGU_z8jpNfDOf-kMNuQg5nCzkYQw4u/summarizeNFTAttributes?contractAddress=\"+collections[collectionSlug]['address']\n",
        "  # traits_response = requests.get(traits_url)\n",
        "  # print(traits_response.text)\n",
        "  # if traits_response.status_code == 200:\n",
        "  #   traits_result=traits_response.json()\n",
        "  #   collections[collectionSlug]['totalTraits']=len(result['summary']) if 'summary' in result.keys() else None\n",
        "  # else:\n",
        "  #   collections[collectionSlug]['totalTraits']=None\n"
      ]
    },
    {
      "cell_type": "code",
      "execution_count": null,
      "metadata": {
        "id": "3o2pcNbJ0vGh"
      },
      "outputs": [],
      "source": [
        "collection_df = pd.DataFrame.from_dict(collections,orient='index')"
      ]
    },
    {
      "cell_type": "code",
      "execution_count": null,
      "metadata": {
        "id": "9gfyRlnfddyb"
      },
      "outputs": [],
      "source": [
        "collection_df.isnull().sum()"
      ]
    },
    {
      "cell_type": "code",
      "execution_count": null,
      "metadata": {
        "id": "ULodXVzQfgdB"
      },
      "outputs": [],
      "source": [
        "collection_df=collection_df.dropna()"
      ]
    },
    {
      "cell_type": "code",
      "execution_count": null,
      "metadata": {
        "id": "YT6F4cPSIIkK"
      },
      "outputs": [],
      "source": [
        "collection_df"
      ]
    },
    {
      "cell_type": "code",
      "execution_count": null,
      "metadata": {
        "id": "LdqhvNW3g9sT"
      },
      "outputs": [],
      "source": [
        "collection_df.to_csv('collections.csv')"
      ]
    },
    {
      "cell_type": "markdown",
      "metadata": {
        "id": "YH5giPT0oilw"
      },
      "source": [
        "#### Dividing into categories"
      ]
    },
    {
      "cell_type": "code",
      "execution_count": null,
      "metadata": {
        "id": "TDYVfWF2m490"
      },
      "outputs": [],
      "source": [
        "collection_df.category.unique()"
      ]
    },
    {
      "cell_type": "code",
      "execution_count": null,
      "metadata": {
        "id": "j0VvShAihN5-"
      },
      "outputs": [],
      "source": [
        "collectible_df=collection_df.query(\"category=='collectible'\")\n",
        "collectibles=collectible_df.to_dict('records')"
      ]
    },
    {
      "cell_type": "code",
      "execution_count": null,
      "metadata": {
        "id": "48d5CDMThhtL"
      },
      "outputs": [],
      "source": [
        "collectible_df"
      ]
    },
    {
      "cell_type": "markdown",
      "metadata": {
        "id": "B8pU8MPf3Tnd"
      },
      "source": [
        "### NFT Project Sales Statistics"
      ]
    },
    {
      "cell_type": "code",
      "execution_count": null,
      "metadata": {
        "id": "YTno1NRWo0fv"
      },
      "outputs": [],
      "source": [
        "for collection in collectibles:\n",
        "    print(collection['project'],' ',collection['title'],' ', collection['projectSlug'] )"
      ]
    },
    {
      "cell_type": "code",
      "execution_count": null,
      "metadata": {
        "id": "gRx8Ou1GjofZ"
      },
      "outputs": [],
      "source": [
        "project_sales_stats=pd.DataFrame()\n",
        "\n",
        "for collection in collectibles:\n",
        "  # Gets sale statistics of entire project\n",
        "  url=\"https://web-api.cryptoslam.io/web-api/v1/sales/\"+collection['project'].replace('(','').replace(')','').replace(' ','-').lower()+\"/summary?groupingtype=daily\"\n",
        "  response = requests.get(url)\n",
        "  if response.status_code ==200:\n",
        "    data=json.loads(response.text)['salesSummaryRecords']\n",
        "    df = pd.DataFrame.from_dict(data)\n",
        "    df['date'] = df['date'].apply(lambda x: int(datetime.timestamp(datetime.strptime(x.split('T')[0],\"%Y-%m-%d\")))*1000)\n",
        "    df['project']=collection['slug']\n",
        "    df['index']=df['date']\n",
        "    df['index']=df['index'].apply(lambda x: collection['slug'] + str(x))\n",
        "    if project_sales_stats.empty:\n",
        "      project_sales_stats=df\n",
        "    else: \n",
        "      project_sales_stats=pd.concat([project_sales_stats,df])\n",
        "  else:\n",
        "    print('QUERY:',url)\n",
        "    print('RESPONSE:',response.text)"
      ]
    },
    {
      "cell_type": "code",
      "execution_count": null,
      "metadata": {
        "id": "AvvlwxtmY_K6"
      },
      "outputs": [],
      "source": [
        "project_sales_stats=project_sales_stats.set_index('index')"
      ]
    },
    {
      "cell_type": "code",
      "execution_count": null,
      "metadata": {
        "id": "myNKrgcrOyzS"
      },
      "outputs": [],
      "source": [
        "project_sales_stats.rename(columns = {'date':'timestamp'}, inplace = True)\n",
        "renamed_columns=addColumnPrefix(['salesUSD', 'salesToken', 'uniqueBuyers', 'sellers',\n",
        "       'totalTransactions', 'activeOwners', 'totalOwners', 'transfers',\n",
        "       'mints', 'burns', 'avgPriceUSD', 'avgPriceToken'],'project')\n",
        "project_sales_stats.rename(columns = renamed_columns , inplace = True)"
      ]
    },
    {
      "cell_type": "code",
      "execution_count": null,
      "metadata": {
        "id": "PUSn7sddqdBe"
      },
      "outputs": [],
      "source": [
        "project_sales_stats['timestamp']=project_sales_stats['timestamp']+86400000"
      ]
    },
    {
      "cell_type": "code",
      "execution_count": null,
      "metadata": {
        "id": "4emfOqFj1KOa"
      },
      "outputs": [],
      "source": [
        "project_sales_stats=project_sales_stats[project_sales_stats['project-salesUSD']!=0]\n",
        "project_sales_stats=project_sales_stats[project_sales_stats['project-salesToken']!=0]\n",
        "project_sales_stats=project_sales_stats[project_sales_stats['project-avgPriceUSD']!=0]\n",
        "project_sales_stats=project_sales_stats[project_sales_stats['project-avgPriceToken']!=0]"
      ]
    },
    {
      "cell_type": "code",
      "execution_count": null,
      "metadata": {
        "id": "IdMOlWHb0OcV"
      },
      "outputs": [],
      "source": [
        "project_sales_stats['tokenUSD']= project_sales_stats['project-salesUSD']/project_sales_stats['project-salesToken']"
      ]
    },
    {
      "cell_type": "code",
      "execution_count": null,
      "metadata": {
        "id": "-WX9sSVWTU1I"
      },
      "outputs": [],
      "source": [
        "project_sales_stats.isnull().sum()"
      ]
    },
    {
      "cell_type": "code",
      "execution_count": null,
      "metadata": {
        "id": "CKWQnYuSUfVb"
      },
      "outputs": [],
      "source": [
        "project_sales_stats=project_sales_stats.dropna()"
      ]
    },
    {
      "cell_type": "code",
      "execution_count": null,
      "metadata": {
        "id": "veuo-UAQqLub"
      },
      "outputs": [],
      "source": [
        "project_sales_stats"
      ]
    },
    {
      "cell_type": "code",
      "execution_count": null,
      "metadata": {
        "id": "k6XPeFTWzOiF"
      },
      "outputs": [],
      "source": [
        "project_sales_stats.project.unique()"
      ]
    },
    {
      "cell_type": "code",
      "execution_count": null,
      "metadata": {
        "id": "GNurXWP9cZcb"
      },
      "outputs": [],
      "source": [
        "project_sales_stats.to_csv('project_sales_stats.csv',index=False)"
      ]
    },
    {
      "cell_type": "code",
      "execution_count": null,
      "metadata": {
        "id": "qgaJYkt9eygX"
      },
      "outputs": [],
      "source": [
        "# If using nonfungible.com to get project sales statistics\n",
        "\n",
        "# stats={}\n",
        "# for collection in collectibles[:10]:\n",
        "#   # Gets sale statistics of entire project\n",
        "#   url=\"https://nonfungible.com/api/statistics?metrics[]=count-sale&metrics[]=sum-usd&metrics[]=avg-usd&metrics[]=count-salesprimary&metrics[]=sum-usdprimary&metrics[]=count-salessecondary&metrics[]=sum-usdsecondary&metrics[]=unique-wallets&metrics[]=unique-buyer&metrics[]=unique-seller&avg=1&limit=\"+str(limit)+\"&comparison=false&project=\"+collection['projectSlug']+\"&includeLatest=true&useCache=false\"\n",
        "#   response = requests.get(url)\n",
        "#   data=json.loads(response.text)['data']\n",
        "#   parameters=['count-sale','sum-usd','avg-usd','count-salesprimary','sum-usdprimary','count-salessecondary','sum-usdsecondary','unique-wallets','unique-buyer','unique-seller']\n",
        "#   for parameter in parameters:\n",
        "#     results=data[parameter]\n",
        "#     for result in results:\n",
        "#       # print(result)\n",
        "#       if collection['slug']+str(result[0]) not in stats.keys():\n",
        "#         stats[collection['slug']+str(result[0])]={\n",
        "#             'timestamp':result[0],\n",
        "#             'project':collection['slug']\n",
        "#         }\n",
        "#       stats[collection['slug']+str(result[0])][parameter]=result[1]\n",
        "    "
      ]
    },
    {
      "cell_type": "markdown",
      "metadata": {
        "id": "ouw0PM-gIHJN"
      },
      "source": [
        "#### Google Trends"
      ]
    },
    {
      "cell_type": "code",
      "execution_count": null,
      "metadata": {
        "id": "mRCtF7ljIHJO"
      },
      "outputs": [],
      "source": [
        "# hl=\"en-GB\"\n",
        "# tz=\"-330\"\n",
        "# resolution=\"DAY\"\n",
        "# locale=\"en-GB\"\n",
        "# # List of token keys corresponding to their search value\n",
        "# tokens={\n",
        "#     'boredapeyachtclub':'APP6_UEAAAAAZBXWrk-NhPND-sutw8nNjhMXSImpDmQz',\n",
        "#     'cryptopunks':'APP6_UEAAAAAZBXY1q3ImoMi_cuz0bdiMegphoct3c2h',\n",
        "#     'azuki':'APP6_UEAAAAAZBXY65ouQyqwmY3qPCpa8V4KQIZ9LLrz',\n",
        "#     'moonbirds':'APP6_UEAAAAAZBXZAolULwbQDP_zDHoo6wQV-P3o538g',\n",
        "#     'doodles':'APP6_UEAAAAAZBXZFWC118PseG6wH0k05OxATH_dTx5z',\n",
        "#     'clonex':'APP6_UEAAAAAZBXZMHxnAbhPl2ZQJQGuBzrECv6D0Y8c',\n",
        "#     'pudgypenguins':'APP6_UEAAAAAZBXZRg9qYFxFsJoXXZnKKxWQhNf4LbLw',\n",
        "#     'potatoz':'APP6_UEAAAAAZBXZbutHqrrvHNrL5-0yhp6YJEIay-kR',\n",
        "#     'onchainmonkey':'APP6_UEAAAAAZBXfDDv2gWGnYCFR2yTx8p6sqpt9mnr5',\n",
        "#     '0n1force':'APP6_UEAAAAAZBXf34Ektvy_6stkhcZCnI1s_Lk8Byrz'\n",
        "# }"
      ]
    },
    {
      "cell_type": "code",
      "execution_count": null,
      "metadata": {
        "id": "LlbBUrzfIHJP"
      },
      "outputs": [],
      "source": [
        "# for collection in collectibles[:10]:\n",
        "#   data=\"\"\n",
        "#   search=\"https://trends.google.com/trends/api/widgetdata/multiline?hl=\"+hl+\"&tz=\"+tz+\"&req=%7B%22time%22:%22\"+start_date+\"+\"+end_date+\"%22,%22resolution%22:%22\"+resolution+\"%22,%22locale%22:%22\"+locale+\"%22,%22comparisonItem%22:%5B%7B%22geo%22:%7B%7D,%22complexKeywordsRestriction%22:%7B%22keyword%22:%5B%7B%22type%22:%22BROAD%22,%22value%22:%22\"+collection['title'].replace(' ','+').lower()+\"%22%7D%5D%7D%7D%5D,%22requestOptions%22:%7B%22property%22:%22%22,%22backend%22:%22IZG%22,%22category%22:0%7D,%22userConfig%22:%7B%22userType%22:%22USER_TYPE_LEGIT_USER%22%7D%7D&token=\"+tokens[collection['slug']]+'&tz='+tz\n",
        "#   response = requests.get(search)\n",
        "#   if response.status_code==200:\n",
        "#     data=json.loads(response.text[6:])['default']['timelineData']\n",
        "#     for i in data:\n",
        "#       stats[collection['slug']+i['time']+'000']['trend-value']=int(i['value'][0])"
      ]
    },
    {
      "cell_type": "code",
      "execution_count": null,
      "metadata": {
        "id": "fWManHNSLN70"
      },
      "outputs": [],
      "source": [
        "# project_sales_stats = pd.DataFrame.from_dict(stats,orient='index').reset_index()"
      ]
    },
    {
      "cell_type": "markdown",
      "metadata": {
        "id": "vxyYoHtXoHuC"
      },
      "source": [
        "### NFT Collectibles Sales"
      ]
    },
    {
      "cell_type": "markdown",
      "metadata": {
        "id": "Rtq6-Pag2cc8"
      },
      "source": [
        "#### Rarity Calculation"
      ]
    },
    {
      "cell_type": "code",
      "execution_count": null,
      "metadata": {
        "id": "SK4qO6nAXxIv"
      },
      "outputs": [],
      "source": [
        "def calculateRares(traits_rarity):\n",
        "  traits_rarity.sort()\n",
        "  rarity1=traits_rarity[0]\n",
        "  if len(traits_rarity)==1:\n",
        "    rarity2=traits_rarity[0]\n",
        "  else:\n",
        "    rarity2=traits_rarity[1]\n",
        "  return [rarity1,rarity2]"
      ]
    },
    {
      "cell_type": "code",
      "execution_count": null,
      "metadata": {
        "id": "Y7G60SW3kXgu"
      },
      "outputs": [],
      "source": [
        "def calculateAvgRarity(traits_rarity):\n",
        "  rarity=0\n",
        "  for tr in traits_rarity:\n",
        "    rarity=rarity+tr\n",
        "  rarity=rarity/len(traits_rarity)\n",
        "  return rarity"
      ]
    },
    {
      "cell_type": "markdown",
      "metadata": {
        "id": "5KRcsV3MppAA"
      },
      "source": [
        "#### Sales Data Collection"
      ]
    },
    {
      "cell_type": "code",
      "execution_count": null,
      "metadata": {
        "id": "GWkiGBAHnvC1"
      },
      "outputs": [],
      "source": [
        "ALCHEMY_API_KEYS=[\n",
        "    'Opp2VA7kHvcYYbYHzDdW40cJSaE-Kz4z',\n",
        "    'brKsGiRFD0RjQH67pdPxD83J1LOkz2Kd',\n",
        "    # 'p4bGU_z8jpNfDOf-kMNuQg5nCzkYQw4u' \n",
        "]"
      ]
    },
    {
      "cell_type": "code",
      "execution_count": null,
      "metadata": {
        "id": "iiK5Qex7pkip"
      },
      "outputs": [],
      "source": [
        "import random"
      ]
    },
    {
      "cell_type": "code",
      "execution_count": null,
      "metadata": {
        "id": "C6ZpLixooNk5"
      },
      "outputs": [],
      "source": [
        "seed=2\n",
        "sales=[]\n",
        "for collection in collectibles[:20]:\n",
        "  print(collection)\n",
        "  # Beause Alchmey NFT API doesn't work well with these\n",
        "#   if collection['slug'] in ['cryptopunks','nouns','flufworld','xana','hashmasks']:\n",
        "#     continue\n",
        "  url=\"https://nonfungible.com/api/salesForProject?limit=100&filter=%7B%22blockTimestamp%22:[%22\"+start_date+\"T00:00:00.000%2B05:30%22,%22\"+end_date+\"T23:59:59.999%2B05:30%22],\"+((\"%22nftTicker%22:[%22\"+collection['token']+\"%22],\") if 'token' in collection.keys() else '') +\"%22saleType%22:[%22secondary%22]%7D&project=\"+collection['projectSlug']+\"&orderBy=blockTimestamp&order=DESC\"\n",
        "  cursor=\"\"\n",
        "  while True:\n",
        "    print(url)\n",
        "    response = requests.get(url)\n",
        "    if response.status_code!=200:\n",
        "      print('ERROR: Probllem in getting nonfungible - project nfts sales')\n",
        "      print('QUERY',url)\n",
        "      print('RESPONSE:',response.status_code, response.text)\n",
        "      break\n",
        "    results=json.loads(response.text)['sales']\n",
        "    if len(results)==0:\n",
        "      print('No sales mentioned here')\n",
        "      break\n",
        "    for i in range(math.floor(len(results)/seed)):\n",
        "      result=results[i*seed]\n",
        "      tokenId=result['assetId']      \n",
        "      rarityUrl = \"https://eth-mainnet.g.alchemy.com/nft/v2/\"+ALCHEMY_API_KEYS[random.randint(0,1)]+\"/computeRarity?contractAddress=\"+collection['address']+\"&tokenId=\"+tokenId\n",
        "      rarityResponse = requests.get(rarityUrl)\n",
        "      if rarityResponse.status_code!=200:\n",
        "        print('ERROR: Problem in getting alchemy - project nfts rarity data')\n",
        "        print('QUERY',rarityUrl)\n",
        "        print('RESPONSE:',rarityResponse.status_code, rarityResponse.text)\n",
        "        continue\n",
        "      rarityResults=json.loads(rarityResponse.text)\n",
        "      traits_rarity=[]\n",
        "      for i in range(len(rarityResults)):\n",
        "        if 'prevalence' in rarityResults[i].keys():\n",
        "          if rarityResults[i]['prevalence']!=None:\n",
        "            traits_rarity.append(rarityResults[i]['prevalence'])\n",
        "          else:\n",
        "            traits_rarity.append(1)\n",
        "      if len(traits_rarity)==0:\n",
        "        rarity1=1\n",
        "        rarity2=1\n",
        "        avgRarity=1\n",
        "      else:    \n",
        "        rarity1,rarity2=calculateRares(traits_rarity)\n",
        "        avgRarity=calculateAvgRarity(traits_rarity)\n",
        "      sale={\n",
        "          #   Current state\n",
        "          'timestamp':result['blockTimestamp']if 'blockTimestamp' in result.keys() else None, # Time of transaction\n",
        "          'usdPrice':result['usdPrice'] if 'usdPrice' in result.keys() else None, # Price of nft in USD\n",
        "        #   'tokenUSDPrice':result['tokenUSDPrice'] if 'tokenUSDPrice' in result.keys() else None, # Token USD Exchange\n",
        "\n",
        "          #   Metadata\n",
        "          'tokenId':result['assetId'], # Token Id\n",
        "          'avgRarity':avgRarity,\n",
        "          'traits':len(traits_rarity),\n",
        "          'rarity1':rarity1,\n",
        "          'rarity2':rarity2,\n",
        "          #   'project':result['project'], # Project slug\n",
        "          'project':collection['slug'], # Project slug\n",
        "          'date': collection['date'], # Include any project infos\n",
        "          # 'totalSupply':collection['totalSupply'],\n",
        "\n",
        "          # Depicts network centrality of seller\n",
        "          'sellerAssetMarketCount':result['sellerAssetMarketCount'] if 'sellerAssetMarketCount' in result.keys() else None, \n",
        "          'sellerAssetReceiveCount': result['sellerAssetReceiveCount'] if 'sellerAssetReceiveCount' in result.keys() else None ,  \n",
        "         \n",
        "          'holdTime':result['blockTimestampChange'] if 'blockTimestampChange' in result.keys() else None, # Time between 2 sales\n",
        "          #   Previous state\n",
        "          'prev-timestamp':result['prevBlockTimestamp']if 'prevBlockTimestamp' in result.keys() else None, # Time of previous transaction\n",
        "          'prev-usdPrice':result['prevUSDPrice'] if 'prevUSDPrice' in result.keys() else None, # Previous price of nft in USD\n",
        "      \n",
        "      }\n",
        "      print(sale)\n",
        "      sales.append(sale)\n",
        "\n",
        "    cursor=results[-1]['_cursor']\n",
        "    url=\"https://nonfungible.com/api/salesForProject?after=\"+cursor+\"&limit=100&filter=%7B%22blockTimestamp%22:[%22\"+start_date+\"T00:00:00.000%2B05:30%22,%22\"+end_date+\"T23:59:59.999%2B05:30%22],\"+((\"%22nftTicker%22:[%22\"+collection['token']+\"%22],\") if 'token' in collection.keys() else '') +\"%22saleType%22:[%22secondary%22]%7D&project=\"+collection['projectSlug']+\"&orderBy=blockTimestamp&order=DESC\"\n",
        "  \n",
        "collectible_sales = pd.DataFrame(sales)\n",
        "print(collectible_sales)"
      ]
    },
    {
      "cell_type": "code",
      "execution_count": null,
      "metadata": {
        "id": "kDnbDHQ1tJgI"
      },
      "outputs": [],
      "source": [
        "collectible_sales"
      ]
    },
    {
      "cell_type": "code",
      "execution_count": null,
      "metadata": {
        "id": "gnm98EHFI--M"
      },
      "outputs": [],
      "source": [
        "collectible_sales.isnull().sum()"
      ]
    },
    {
      "cell_type": "code",
      "execution_count": null,
      "metadata": {
        "id": "IFRGUBAjJDcn"
      },
      "outputs": [],
      "source": [
        "collectible_sales=collectible_sales.dropna()"
      ]
    },
    {
      "cell_type": "code",
      "execution_count": null,
      "metadata": {
        "id": "3uiahS27y8uh"
      },
      "outputs": [],
      "source": [
        "collectible_sales.project.unique()"
      ]
    },
    {
      "cell_type": "markdown",
      "metadata": {
        "id": "4yg-zVGchINj"
      },
      "source": [
        "## Data Processing"
      ]
    },
    {
      "cell_type": "code",
      "execution_count": null,
      "metadata": {
        "id": "MqeuV6p_hCWB"
      },
      "outputs": [],
      "source": [
        "collectible_sales['timestamp'] = collectible_sales['timestamp'].apply(lambda x: int(datetime.timestamp(datetime.strptime(x.split('T')[0],\"%Y-%m-%d\")))*1000)"
      ]
    },
    {
      "cell_type": "code",
      "execution_count": null,
      "metadata": {
        "id": "eYkM-8NIIiYB"
      },
      "outputs": [],
      "source": [
        "collectible_sales['prev-timestamp'] = collectible_sales['prev-timestamp'].apply(lambda x: int(datetime.timestamp(datetime.strptime(x.split('T')[0],\"%Y-%m-%d\")))*1000)"
      ]
    },
    {
      "cell_type": "code",
      "execution_count": null,
      "metadata": {
        "id": "WbVGiTn9wxzz"
      },
      "outputs": [],
      "source": [
        "collectible_sales['date'] = collectible_sales['date'].apply(lambda x: int(datetime.timestamp(datetime.strptime(x.split('T')[0],\"%Y-%m-%d\")))*1000)"
      ]
    },
    {
      "cell_type": "code",
      "execution_count": null,
      "metadata": {
        "id": "dTS4DljFEiN6"
      },
      "outputs": [],
      "source": [
        "collectible_sales = pd.merge(collectible_sales, project_sales_stats, on = ['timestamp','project'], how='inner')"
      ]
    },
    {
      "cell_type": "code",
      "execution_count": null,
      "metadata": {
        "id": "M_8mz_ic3hkI"
      },
      "outputs": [],
      "source": [
        "renamed_columns=addColumnPrefix(['timestamp','project-salesUSD', 'project-salesToken',\n",
        "       'project-uniqueBuyers', 'project-sellers', 'project-totalTransactions',\n",
        "       'project-activeOwners', 'project-totalOwners', 'project-transfers',\n",
        "       'project-mints', 'project-burns', 'project-avgPriceUSD',\n",
        "       'project-avgPriceToken', 'tokenUSD'], 'prev')\n",
        "project_sales_stats.rename(columns = renamed_columns, inplace = True)"
      ]
    },
    {
      "cell_type": "code",
      "execution_count": null,
      "metadata": {
        "id": "1F-zU3_v3jJS"
      },
      "outputs": [],
      "source": [
        "collectible_sales = pd.merge(collectible_sales, project_sales_stats, on = ['prev-timestamp','project'], how='inner')"
      ]
    },
    {
      "cell_type": "code",
      "execution_count": null,
      "metadata": {
        "id": "gGJdTjxlZ5Vs"
      },
      "outputs": [],
      "source": [
        "collectible_sales = pd.merge(collectible_sales, category_sales_stats['collectible'], on = ['timestamp'], how='inner')"
      ]
    },
    {
      "cell_type": "code",
      "execution_count": null,
      "metadata": {
        "id": "rcUZcUEU85Re"
      },
      "outputs": [],
      "source": [
        "renamed_columns=addColumnPrefix(category_sales_stats['collectible'].columns, 'prev')\n",
        "category_sales_stats['collectible'].rename(columns = renamed_columns, inplace = True)"
      ]
    },
    {
      "cell_type": "code",
      "execution_count": null,
      "metadata": {
        "id": "112mihIQ9HCj"
      },
      "outputs": [],
      "source": [
        "collectible_sales = pd.merge(collectible_sales, category_sales_stats['collectible'], on = ['prev-timestamp'], how='inner')"
      ]
    },
    {
      "cell_type": "code",
      "execution_count": null,
      "metadata": {
        "id": "BCp4OJ7ka2gE"
      },
      "outputs": [],
      "source": [
        "collectible_sales = pd.merge(collectible_sales, market_sales_stats, on = ['timestamp'], how='inner')"
      ]
    },
    {
      "cell_type": "code",
      "execution_count": null,
      "metadata": {
        "id": "gc8ATgMU9V0o"
      },
      "outputs": [],
      "source": [
        "renamed_columns=addColumnPrefix(market_sales_stats.columns, 'prev')\n",
        "market_sales_stats.rename(columns = renamed_columns, inplace = True)"
      ]
    },
    {
      "cell_type": "code",
      "execution_count": null,
      "metadata": {
        "id": "bLMq8BiR9bwD"
      },
      "outputs": [],
      "source": [
        "collectible_sales = pd.merge(collectible_sales, market_sales_stats, on = ['prev-timestamp'], how='inner')"
      ]
    },
    {
      "cell_type": "code",
      "execution_count": null,
      "metadata": {
        "id": "eNaix1LrwZEy"
      },
      "outputs": [],
      "source": [
        "collectible_sales=collectible_sales.sort_values(by=['timestamp'], ascending=True)"
      ]
    },
    {
      "cell_type": "code",
      "execution_count": null,
      "metadata": {
        "id": "L74zu6pZ0ZIS"
      },
      "outputs": [],
      "source": [
        "collectible_sales['timestamp']=pd.to_datetime(collectible_sales['timestamp']*1000000)\n",
        "collectible_sales['date']=pd.to_datetime(collectible_sales['date']*1000000)"
      ]
    },
    {
      "cell_type": "code",
      "execution_count": null,
      "metadata": {
        "id": "dkVSY1Q2eHAf"
      },
      "outputs": [],
      "source": [
        "collectible_sales.columns"
      ]
    },
    {
      "cell_type": "code",
      "execution_count": null,
      "metadata": {
        "id": "X-3QzbxBKeK4"
      },
      "outputs": [],
      "source": [
        "collectible_sales.isnull().sum()"
      ]
    },
    {
      "cell_type": "code",
      "execution_count": null,
      "metadata": {
        "id": "sPzpoo4VkC9s"
      },
      "outputs": [],
      "source": [
        "collectible_sales=collectible_sales.dropna()"
      ]
    },
    {
      "cell_type": "code",
      "execution_count": null,
      "metadata": {
        "id": "ziFPw1TTyiJo"
      },
      "outputs": [],
      "source": [
        "collectible_sales.project.unique()"
      ]
    },
    {
      "cell_type": "code",
      "execution_count": null,
      "metadata": {
        "id": "vSqbi17Ra6BO"
      },
      "outputs": [],
      "source": [
        "collectible_sales"
      ]
    },
    {
      "cell_type": "code",
      "execution_count": null,
      "metadata": {
        "id": "sT3zGAyefzUF"
      },
      "outputs": [],
      "source": [
        "collectible_sales.to_csv('collectible_sales.csv',index=False)"
      ]
    },
    {
      "cell_type": "code",
      "execution_count": null,
      "metadata": {
        "id": "wx_RCxV-t5QD"
      },
      "outputs": [],
      "source": [
        "files.download('collectible_sales.csv')"
      ]
    }
  ],
  "metadata": {
    "colab": {
      "provenance": []
    },
    "kernelspec": {
      "display_name": "Python 3",
      "name": "python3"
    },
    "language_info": {
      "name": "python"
    }
  },
  "nbformat": 4,
  "nbformat_minor": 0
}