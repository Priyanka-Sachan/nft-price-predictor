{
  "cells": [
    {
      "cell_type": "code",
      "execution_count": null,
      "metadata": {
        "id": "E3avosnGzHcE"
      },
      "outputs": [],
      "source": [
        "!pip install -q seaborn\n",
        "!pip install --pre pycaret"
      ]
    },
    {
      "cell_type": "code",
      "execution_count": null,
      "metadata": {
        "id": "fZnxmzLbzYdI"
      },
      "outputs": [],
      "source": [
        "import requests\n",
        "import json\n",
        "import time\n",
        "import math\n",
        "\n",
        "import matplotlib.pyplot as plt\n",
        "import numpy as np\n",
        "import pandas as pd\n",
        "import seaborn as sns\n",
        "# Make NumPy printouts easier to read.\n",
        "np.set_printoptions(precision=3, suppress=True)\n",
        "\n",
        "# import tensorflow as tf\n",
        "# from tensorflow import keras\n",
        "# from tensorflow.keras import layers\n",
        "\n",
        "# For ML Models\n",
        "from sklearn.linear_model import LinearRegression\n",
        "from sklearn.metrics import r2_score\n",
        "\n",
        "from pycaret.regression import RegressionExperiment\n",
        "\n",
        "from pycaret.time_series import TSForecastingExperiment\n",
        "\n",
        "from google.colab import files\n",
        "from datetime import date, datetime"
      ]
    },
    {
      "cell_type": "markdown",
      "metadata": {
        "id": "UcGDfzervqag"
      },
      "source": [
        "## Training ML Models"
      ]
    },
    {
      "cell_type": "code",
      "execution_count": null,
      "metadata": {
        "id": "eqaxkLrjgYqp"
      },
      "outputs": [],
      "source": [
        "from google.colab import files\n",
        "uploaded = files.upload()"
      ]
    },
    {
      "cell_type": "code",
      "execution_count": null,
      "metadata": {
        "id": "B1KHM0G6vyUm"
      },
      "outputs": [],
      "source": [
        "dataset=pd.read_csv('collectible_sales.csv')"
      ]
    },
    {
      "cell_type": "code",
      "execution_count": null,
      "metadata": {
        "id": "eIBAXAEkwTn2"
      },
      "outputs": [],
      "source": [
        "dataset.head()"
      ]
    },
    {
      "cell_type": "code",
      "source": [
        "dataset.columns"
      ],
      "metadata": {
        "id": "gvh-IYqCNUyA"
      },
      "execution_count": null,
      "outputs": []
    },
    {
      "cell_type": "code",
      "execution_count": null,
      "metadata": {
        "id": "qFNK8OJ0032B"
      },
      "outputs": [],
      "source": [
        "dataset=dataset.drop(['tokenId'],axis=1)\n",
        "dataset=dataset.drop(['project-salesToken'],axis=1)\n",
        "dataset=dataset.drop(['project-avgPriceToken'],axis=1)\n",
        "dataset=dataset.drop(['prev-project-salesToken'],axis=1)\n",
        "dataset=dataset.drop(['prev-project-avgPriceToken'],axis=1)"
      ]
    },
    {
      "cell_type": "code",
      "execution_count": null,
      "metadata": {
        "id": "6_hwcBMc2_FB"
      },
      "outputs": [],
      "source": [
        "dataset.isnull().sum()"
      ]
    },
    {
      "cell_type": "code",
      "execution_count": null,
      "metadata": {
        "id": "trCxZOjM3Riz"
      },
      "outputs": [],
      "source": [
        "dataset=dataset.dropna()"
      ]
    },
    {
      "cell_type": "code",
      "execution_count": null,
      "metadata": {
        "id": "WX-TgR_qzTNe"
      },
      "outputs": [],
      "source": [
        "dataset = dataset[dataset.usdPrice >= 1]\n",
        "dataset = dataset[dataset['prev-usdPrice'] >= 1]\n",
        "dataset = dataset[dataset.holdTime > 0]"
      ]
    },
    {
      "cell_type": "code",
      "execution_count": null,
      "metadata": {
        "id": "U04AKWRixoTL"
      },
      "outputs": [],
      "source": [
        "dataset.describe()"
      ]
    },
    {
      "cell_type": "markdown",
      "metadata": {
        "id": "PQzvcNE-FPb1"
      },
      "source": [
        "### Data Analysis\n",
        "https://towardsdatascience.com/transforming-skewed-data-73da4c2d0d16\n",
        "\n"
      ]
    },
    {
      "cell_type": "code",
      "execution_count": null,
      "metadata": {
        "id": "34TQKR6k_-J8"
      },
      "outputs": [],
      "source": [
        "for feat in dataset.columns:\n",
        "  plt.hist(dataset[feat], bins=200)\n",
        "  plt.xlabel(feat)\n",
        "  plt.ylabel('frequency')\n",
        "  plt.title('histogram of '+feat)\n",
        "  plt.show()\n",
        "  print()"
      ]
    },
    {
      "cell_type": "markdown",
      "metadata": {
        "id": "J2-2f6l2_-J8"
      },
      "source": [
        "We can observe that the distribution for usd price follows a power-law distribution, to fix that, and to make it kind of Gaussian distribution, let’s convert the values to the log form i.e. we’ll be replacing the price values with log(price+1)."
      ]
    },
    {
      "cell_type": "markdown",
      "metadata": {
        "id": "yY6bwRla2cw2"
      },
      "source": [
        "### Train Test data split"
      ]
    },
    {
      "cell_type": "code",
      "execution_count": null,
      "metadata": {
        "id": "KKQutv_22O47"
      },
      "outputs": [],
      "source": [
        "from sklearn.model_selection import train_test_split"
      ]
    },
    {
      "cell_type": "code",
      "execution_count": null,
      "metadata": {
        "id": "GLDiJp0Q2PnE"
      },
      "outputs": [],
      "source": [
        "train_dataset, test_dataset = train_test_split(dataset, test_size=0.2)"
      ]
    },
    {
      "cell_type": "code",
      "execution_count": null,
      "metadata": {
        "id": "nUKEOdh_2ZXF"
      },
      "outputs": [],
      "source": [
        "train_features = train_dataset.copy()\n",
        "test_features = test_dataset.copy()\n",
        "\n",
        "train_labels = train_features.pop('usdPrice')\n",
        "test_labels = test_features.pop('usdPrice')"
      ]
    },
    {
      "cell_type": "code",
      "execution_count": null,
      "metadata": {
        "id": "XoBs-djC3-J9"
      },
      "outputs": [],
      "source": [
        "score={}"
      ]
    },
    {
      "cell_type": "markdown",
      "metadata": {
        "id": "PpF9GnQc2qI2"
      },
      "source": [
        "### Training on multiple models"
      ]
    },
    {
      "cell_type": "markdown",
      "metadata": {
        "id": "zPIXEQnN2vym"
      },
      "source": [
        "#### 1. Sklearn linear regression"
      ]
    },
    {
      "cell_type": "code",
      "source": [
        "train_features['timestamp'] = train_features['timestamp'].apply(lambda x: int(datetime.timestamp(datetime.strptime(x.split('T')[0],\"%Y-%m-%d\"))))\n",
        "test_features['timestamp'] = test_features['timestamp'].apply(lambda x: int(datetime.timestamp(datetime.strptime(x.split('T')[0],\"%Y-%m-%d\"))))\n",
        "\n",
        "train_features['date'] = train_features['date'].apply(lambda x: int(datetime.timestamp(datetime.strptime(x.split('T')[0],\"%Y-%m-%d\"))))\n",
        "test_features['date'] = test_features['date'].apply(lambda x: int(datetime.timestamp(datetime.strptime(x.split('T')[0],\"%Y-%m-%d\"))))"
      ],
      "metadata": {
        "id": "YaG3AN0nOCl4"
      },
      "execution_count": null,
      "outputs": []
    },
    {
      "cell_type": "code",
      "execution_count": null,
      "metadata": {
        "id": "tDFRWyjF2FeM"
      },
      "outputs": [],
      "source": [
        "reg = LinearRegression().fit(train_features, train_labels)"
      ]
    },
    {
      "cell_type": "code",
      "execution_count": null,
      "metadata": {
        "id": "y10HJD782H9X"
      },
      "outputs": [],
      "source": [
        "score['sklearn-regression']=reg.score(test_features,test_labels)"
      ]
    },
    {
      "cell_type": "code",
      "source": [
        "# Get feature importance\n",
        "\n",
        "normalized_coeff = np.abs(reg.coef_/ np.linalg.norm(reg.coef_))\n",
        "for i in range(len(train_features.columns)):\n",
        "  print(train_features.columns[i],normalized_coeff[i])"
      ],
      "metadata": {
        "id": "2LP_wdfIOqvh"
      },
      "execution_count": null,
      "outputs": []
    },
    {
      "cell_type": "code",
      "execution_count": null,
      "metadata": {
        "id": "OPwS0Qw-2J17"
      },
      "outputs": [],
      "source": [
        "fig = plt.figure(figsize=(15,8))\n",
        "ax = fig.add_axes([0,0,1,1])\n",
        "ax.bar(train_features.columns, normalized_coeff)\n",
        "ax.set_xlabel(\"Features\")\n",
        "ax.set_ylabel(\"Relative Importance\")\n",
        "plt.show()"
      ]
    },
    {
      "cell_type": "code",
      "execution_count": null,
      "metadata": {
        "id": "lP74htt64GVt"
      },
      "outputs": [],
      "source": [
        "train_labels=np.log(train_labels)\n",
        "train_features['prevUSDPrice']=np.log(train_features['prevUSDPrice'])\n",
        "\n",
        "test_labels=np.log(test_labels)\n",
        "test_features['prevUSDPrice']=np.log(test_features['prevUSDPrice'])"
      ]
    },
    {
      "cell_type": "code",
      "execution_count": null,
      "metadata": {
        "id": "xx6JWuE94HCt"
      },
      "outputs": [],
      "source": [
        "reg = LinearRegression().fit(train_features, train_labels)"
      ]
    },
    {
      "cell_type": "code",
      "execution_count": null,
      "metadata": {
        "id": "XPlp5ajI4Mqu"
      },
      "outputs": [],
      "source": [
        "score['sklearn-reg-log-label']=reg.score(test_features,test_labels)"
      ]
    },
    {
      "cell_type": "code",
      "execution_count": null,
      "metadata": {
        "id": "0jybaP984ayw"
      },
      "outputs": [],
      "source": [
        "score"
      ]
    },
    {
      "cell_type": "markdown",
      "metadata": {
        "id": "21bUxgJOdjMs"
      },
      "source": [
        "#### 2. PyCaret - Regression (AutoML Models)"
      ]
    },
    {
      "cell_type": "code",
      "source": [
        "dataset"
      ],
      "metadata": {
        "id": "JBPPxDzmbtqX"
      },
      "execution_count": null,
      "outputs": []
    },
    {
      "cell_type": "code",
      "source": [
        "# Converting string to datetime\n",
        "dataset['timestamp'] = pd.to_datetime(dataset['timestamp'], format='%Y-%m-%d')\n",
        "dataset['prev-timestamp'] = pd.to_datetime(dataset['prev-timestamp'], format='%Y-%m-%d')\n",
        "dataset['date'] = pd.to_datetime(dataset['date'], format='%Y-%m-%d')"
      ],
      "metadata": {
        "id": "3bvIEPclWkSz"
      },
      "execution_count": null,
      "outputs": []
    },
    {
      "cell_type": "code",
      "source": [
        "# Converting datetime to unix\n",
        "dataset['timestamp'] = dataset['timestamp'].apply(lambda x: int(datetime.timestamp(x))*1000)\n",
        "dataset['prev-timestamp'] = dataset['prev-timestamp'].apply(lambda x: int(datetime.timestamp(x))*1000)\n",
        "dataset['date'] = dataset['date'].apply(lambda x: int(datetime.timestamp(x))*1000)"
      ],
      "metadata": {
        "id": "tCx_0XXLcoU7"
      },
      "execution_count": null,
      "outputs": []
    },
    {
      "cell_type": "code",
      "source": [
        "dataset=dataset.drop(['project'],axis=1)"
      ],
      "metadata": {
        "id": "twCv3KtiMkGt"
      },
      "execution_count": null,
      "outputs": []
    },
    {
      "cell_type": "code",
      "source": [
        "dataset['popularity']=dataset['prev-usdPrice']/dataset['prev-project-avgPriceUSD']"
      ],
      "metadata": {
        "id": "5XVms9EWWmvP"
      },
      "execution_count": null,
      "outputs": []
    },
    {
      "cell_type": "code",
      "source": [
        "dataset"
      ],
      "metadata": {
        "id": "vCiKevPX-aNN"
      },
      "execution_count": null,
      "outputs": []
    },
    {
      "cell_type": "code",
      "execution_count": null,
      "metadata": {
        "id": "EpT9s89De2UW"
      },
      "outputs": [],
      "source": [
        "s = RegressionExperiment()\n",
        "s.setup(dataset, target = 'usdPrice',session_id = 123)"
      ]
    },
    {
      "cell_type": "code",
      "execution_count": null,
      "metadata": {
        "id": "Ru3cxW-4fKkO"
      },
      "outputs": [],
      "source": [
        "best = s.compare_models()"
      ]
    },
    {
      "cell_type": "code",
      "execution_count": null,
      "metadata": {
        "id": "CFduG2unfQhr"
      },
      "outputs": [],
      "source": [
        "print(best)"
      ]
    },
    {
      "cell_type": "code",
      "execution_count": null,
      "metadata": {
        "id": "7gRKq3SLkspr"
      },
      "outputs": [],
      "source": [
        "s.evaluate_model(best)"
      ]
    },
    {
      "cell_type": "code",
      "execution_count": null,
      "metadata": {
        "id": "wb1Kext7kx2I"
      },
      "outputs": [],
      "source": [
        "s.plot_model(best, plot = 'residuals')"
      ]
    },
    {
      "cell_type": "code",
      "execution_count": null,
      "metadata": {
        "id": "WxubnjRwkz7x"
      },
      "outputs": [],
      "source": [
        "s.plot_model(best, plot = 'feature')"
      ]
    },
    {
      "cell_type": "code",
      "execution_count": null,
      "metadata": {
        "id": "qTr372Yuk2iC"
      },
      "outputs": [],
      "source": [
        "s.predict_model(best)"
      ]
    },
    {
      "cell_type": "code",
      "execution_count": null,
      "metadata": {
        "id": "uVyVT8Aqk6ue"
      },
      "outputs": [],
      "source": [
        "s.save_model(best, 'my_best_pipeline')"
      ]
    },
    {
      "cell_type": "code",
      "execution_count": null,
      "metadata": {
        "id": "UMr_WtGik9tJ"
      },
      "outputs": [],
      "source": [
        "loaded_model = s.load_model('my_best_pipeline')\n",
        "print(loaded_model)"
      ]
    }
  ],
  "metadata": {
    "colab": {
      "provenance": []
    },
    "kernelspec": {
      "display_name": "Python 3",
      "name": "python3"
    },
    "language_info": {
      "name": "python"
    }
  },
  "nbformat": 4,
  "nbformat_minor": 0
}